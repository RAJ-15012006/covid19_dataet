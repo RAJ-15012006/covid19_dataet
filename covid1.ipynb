{
 "cells": [
  {
   "cell_type": "code",
   "execution_count": 250,
   "id": "627d98a2-8d15-4f19-9f5c-f8be1e6e6515",
   "metadata": {},
   "outputs": [],
   "source": [
    "import pandas as pd\n",
    "import numpy as np\n",
    "import warnings"
   ]
  },
  {
   "cell_type": "code",
   "execution_count": 252,
   "id": "6a9c2acd-9b69-4c90-9991-54b7a2825295",
   "metadata": {},
   "outputs": [],
   "source": [
    "from sklearn.model_selection import train_test_split # This function is used to split the dataset into training and testing subsets.\n",
    "from sklearn.preprocessing import MinMaxScaler # It scales all the features in the dataset to a given range, usually between 0 and 1.\n",
    "from sklearn.linear_model import LinearRegression # This imports a linear regression model.\n",
    "from sklearn.ensemble import RandomForestRegressor # Random Forest is an ensemble method that combines multiple decision trees to improve accuracy and control overfitting.\n",
    "from xgboost import XGBRegressor# XGBoost is a high-performance, optimized implementation of gradient boosting that often yields top results in structured data problems.\n",
    "from sklearn.metrics import r2_score, mean_absolute_percentage_error # These are metrics to evaluate how well your regression model is performing.\n",
    "import matplotlib.pyplot as plt # send for creating visual plots and graphs like line charts, scatter plots, etc.\n",
    "import seaborn as sns # Seaborn is a higher-level visualization library built on top of matplotlib."
   ]
  },
  {
   "cell_type": "code",
   "execution_count": 254,
   "id": "83f0be10-9d25-4990-9879-9f99ab78e489",
   "metadata": {},
   "outputs": [
    {
     "name": "stdout",
     "output_type": "stream",
     "text": [
      "--- Step 1: Loading and Preprocessing Data---\n"
     ]
    }
   ],
   "source": [
    "# ignore warning for cleaner output\n",
    "warnings.simplefilter(action='ignore',category=FutureWarning)\n",
    "\n",
    "# data loading\n",
    "print(\"--- Step 1: Loading and Preprocessing Data---\")\n",
    "\n",
    "# load the dataset :- \n",
    "try:\n",
    "    df = pd.read_csv(\"worldometer_data (1).csv\")\n",
    "except FileNotFoundError:\n",
    "    print(\"Error: The file 'worldometer_data.csv' was not found\")\n",
    "    exit()"
   ]
  },
  {
   "cell_type": "code",
   "execution_count": 255,
   "id": "02cc7293-c82c-438f-a7fa-ad614cf4a467",
   "metadata": {},
   "outputs": [
    {
     "data": {
      "text/html": [
       "<div>\n",
       "<style scoped>\n",
       "    .dataframe tbody tr th:only-of-type {\n",
       "        vertical-align: middle;\n",
       "    }\n",
       "\n",
       "    .dataframe tbody tr th {\n",
       "        vertical-align: top;\n",
       "    }\n",
       "\n",
       "    .dataframe thead th {\n",
       "        text-align: right;\n",
       "    }\n",
       "</style>\n",
       "<table border=\"1\" class=\"dataframe\">\n",
       "  <thead>\n",
       "    <tr style=\"text-align: right;\">\n",
       "      <th></th>\n",
       "      <th>Country/Region</th>\n",
       "      <th>Continent</th>\n",
       "      <th>Population</th>\n",
       "      <th>TotalCases</th>\n",
       "      <th>NewCases</th>\n",
       "      <th>TotalDeaths</th>\n",
       "      <th>NewDeaths</th>\n",
       "      <th>TotalRecovered</th>\n",
       "      <th>NewRecovered</th>\n",
       "      <th>ActiveCases</th>\n",
       "      <th>Serious,Critical</th>\n",
       "      <th>Tot Cases/1M pop</th>\n",
       "      <th>Deaths/1M pop</th>\n",
       "      <th>TotalTests</th>\n",
       "      <th>Tests/1M pop</th>\n",
       "      <th>WHO Region</th>\n",
       "    </tr>\n",
       "  </thead>\n",
       "  <tbody>\n",
       "    <tr>\n",
       "      <th>0</th>\n",
       "      <td>USA</td>\n",
       "      <td>North America</td>\n",
       "      <td>3.311981e+08</td>\n",
       "      <td>5032179</td>\n",
       "      <td>NaN</td>\n",
       "      <td>162804.0</td>\n",
       "      <td>NaN</td>\n",
       "      <td>2576668.0</td>\n",
       "      <td>NaN</td>\n",
       "      <td>2292707.0</td>\n",
       "      <td>18296.0</td>\n",
       "      <td>15194.0</td>\n",
       "      <td>492.0</td>\n",
       "      <td>63139605.0</td>\n",
       "      <td>190640.0</td>\n",
       "      <td>Americas</td>\n",
       "    </tr>\n",
       "    <tr>\n",
       "      <th>1</th>\n",
       "      <td>Brazil</td>\n",
       "      <td>South America</td>\n",
       "      <td>2.127107e+08</td>\n",
       "      <td>2917562</td>\n",
       "      <td>NaN</td>\n",
       "      <td>98644.0</td>\n",
       "      <td>NaN</td>\n",
       "      <td>2047660.0</td>\n",
       "      <td>NaN</td>\n",
       "      <td>771258.0</td>\n",
       "      <td>8318.0</td>\n",
       "      <td>13716.0</td>\n",
       "      <td>464.0</td>\n",
       "      <td>13206188.0</td>\n",
       "      <td>62085.0</td>\n",
       "      <td>Americas</td>\n",
       "    </tr>\n",
       "    <tr>\n",
       "      <th>2</th>\n",
       "      <td>India</td>\n",
       "      <td>Asia</td>\n",
       "      <td>1.381345e+09</td>\n",
       "      <td>2025409</td>\n",
       "      <td>NaN</td>\n",
       "      <td>41638.0</td>\n",
       "      <td>NaN</td>\n",
       "      <td>1377384.0</td>\n",
       "      <td>NaN</td>\n",
       "      <td>606387.0</td>\n",
       "      <td>8944.0</td>\n",
       "      <td>1466.0</td>\n",
       "      <td>30.0</td>\n",
       "      <td>22149351.0</td>\n",
       "      <td>16035.0</td>\n",
       "      <td>South-EastAsia</td>\n",
       "    </tr>\n",
       "    <tr>\n",
       "      <th>3</th>\n",
       "      <td>Russia</td>\n",
       "      <td>Europe</td>\n",
       "      <td>1.459409e+08</td>\n",
       "      <td>871894</td>\n",
       "      <td>NaN</td>\n",
       "      <td>14606.0</td>\n",
       "      <td>NaN</td>\n",
       "      <td>676357.0</td>\n",
       "      <td>NaN</td>\n",
       "      <td>180931.0</td>\n",
       "      <td>2300.0</td>\n",
       "      <td>5974.0</td>\n",
       "      <td>100.0</td>\n",
       "      <td>29716907.0</td>\n",
       "      <td>203623.0</td>\n",
       "      <td>Europe</td>\n",
       "    </tr>\n",
       "    <tr>\n",
       "      <th>4</th>\n",
       "      <td>South Africa</td>\n",
       "      <td>Africa</td>\n",
       "      <td>5.938157e+07</td>\n",
       "      <td>538184</td>\n",
       "      <td>NaN</td>\n",
       "      <td>9604.0</td>\n",
       "      <td>NaN</td>\n",
       "      <td>387316.0</td>\n",
       "      <td>NaN</td>\n",
       "      <td>141264.0</td>\n",
       "      <td>539.0</td>\n",
       "      <td>9063.0</td>\n",
       "      <td>162.0</td>\n",
       "      <td>3149807.0</td>\n",
       "      <td>53044.0</td>\n",
       "      <td>Africa</td>\n",
       "    </tr>\n",
       "    <tr>\n",
       "      <th>...</th>\n",
       "      <td>...</td>\n",
       "      <td>...</td>\n",
       "      <td>...</td>\n",
       "      <td>...</td>\n",
       "      <td>...</td>\n",
       "      <td>...</td>\n",
       "      <td>...</td>\n",
       "      <td>...</td>\n",
       "      <td>...</td>\n",
       "      <td>...</td>\n",
       "      <td>...</td>\n",
       "      <td>...</td>\n",
       "      <td>...</td>\n",
       "      <td>...</td>\n",
       "      <td>...</td>\n",
       "      <td>...</td>\n",
       "    </tr>\n",
       "    <tr>\n",
       "      <th>204</th>\n",
       "      <td>Montserrat</td>\n",
       "      <td>North America</td>\n",
       "      <td>4.992000e+03</td>\n",
       "      <td>13</td>\n",
       "      <td>NaN</td>\n",
       "      <td>1.0</td>\n",
       "      <td>NaN</td>\n",
       "      <td>10.0</td>\n",
       "      <td>NaN</td>\n",
       "      <td>2.0</td>\n",
       "      <td>NaN</td>\n",
       "      <td>2604.0</td>\n",
       "      <td>200.0</td>\n",
       "      <td>61.0</td>\n",
       "      <td>12220.0</td>\n",
       "      <td>NaN</td>\n",
       "    </tr>\n",
       "    <tr>\n",
       "      <th>205</th>\n",
       "      <td>Caribbean Netherlands</td>\n",
       "      <td>North America</td>\n",
       "      <td>2.624700e+04</td>\n",
       "      <td>13</td>\n",
       "      <td>NaN</td>\n",
       "      <td>NaN</td>\n",
       "      <td>NaN</td>\n",
       "      <td>7.0</td>\n",
       "      <td>NaN</td>\n",
       "      <td>6.0</td>\n",
       "      <td>NaN</td>\n",
       "      <td>495.0</td>\n",
       "      <td>NaN</td>\n",
       "      <td>424.0</td>\n",
       "      <td>16154.0</td>\n",
       "      <td>NaN</td>\n",
       "    </tr>\n",
       "    <tr>\n",
       "      <th>206</th>\n",
       "      <td>Falkland Islands</td>\n",
       "      <td>South America</td>\n",
       "      <td>3.489000e+03</td>\n",
       "      <td>13</td>\n",
       "      <td>NaN</td>\n",
       "      <td>NaN</td>\n",
       "      <td>NaN</td>\n",
       "      <td>13.0</td>\n",
       "      <td>NaN</td>\n",
       "      <td>0.0</td>\n",
       "      <td>NaN</td>\n",
       "      <td>3726.0</td>\n",
       "      <td>NaN</td>\n",
       "      <td>1816.0</td>\n",
       "      <td>520493.0</td>\n",
       "      <td>NaN</td>\n",
       "    </tr>\n",
       "    <tr>\n",
       "      <th>207</th>\n",
       "      <td>Vatican City</td>\n",
       "      <td>Europe</td>\n",
       "      <td>8.010000e+02</td>\n",
       "      <td>12</td>\n",
       "      <td>NaN</td>\n",
       "      <td>NaN</td>\n",
       "      <td>NaN</td>\n",
       "      <td>12.0</td>\n",
       "      <td>NaN</td>\n",
       "      <td>0.0</td>\n",
       "      <td>NaN</td>\n",
       "      <td>14981.0</td>\n",
       "      <td>NaN</td>\n",
       "      <td>NaN</td>\n",
       "      <td>NaN</td>\n",
       "      <td>Europe</td>\n",
       "    </tr>\n",
       "    <tr>\n",
       "      <th>208</th>\n",
       "      <td>Western Sahara</td>\n",
       "      <td>Africa</td>\n",
       "      <td>5.986820e+05</td>\n",
       "      <td>10</td>\n",
       "      <td>NaN</td>\n",
       "      <td>1.0</td>\n",
       "      <td>NaN</td>\n",
       "      <td>8.0</td>\n",
       "      <td>NaN</td>\n",
       "      <td>1.0</td>\n",
       "      <td>NaN</td>\n",
       "      <td>17.0</td>\n",
       "      <td>2.0</td>\n",
       "      <td>NaN</td>\n",
       "      <td>NaN</td>\n",
       "      <td>Africa</td>\n",
       "    </tr>\n",
       "  </tbody>\n",
       "</table>\n",
       "<p>209 rows × 16 columns</p>\n",
       "</div>"
      ],
      "text/plain": [
       "            Country/Region      Continent    Population  TotalCases  NewCases  \\\n",
       "0                      USA  North America  3.311981e+08     5032179       NaN   \n",
       "1                   Brazil  South America  2.127107e+08     2917562       NaN   \n",
       "2                    India           Asia  1.381345e+09     2025409       NaN   \n",
       "3                   Russia         Europe  1.459409e+08      871894       NaN   \n",
       "4             South Africa         Africa  5.938157e+07      538184       NaN   \n",
       "..                     ...            ...           ...         ...       ...   \n",
       "204             Montserrat  North America  4.992000e+03          13       NaN   \n",
       "205  Caribbean Netherlands  North America  2.624700e+04          13       NaN   \n",
       "206       Falkland Islands  South America  3.489000e+03          13       NaN   \n",
       "207           Vatican City         Europe  8.010000e+02          12       NaN   \n",
       "208         Western Sahara         Africa  5.986820e+05          10       NaN   \n",
       "\n",
       "     TotalDeaths  NewDeaths  TotalRecovered  NewRecovered  ActiveCases  \\\n",
       "0       162804.0        NaN       2576668.0           NaN    2292707.0   \n",
       "1        98644.0        NaN       2047660.0           NaN     771258.0   \n",
       "2        41638.0        NaN       1377384.0           NaN     606387.0   \n",
       "3        14606.0        NaN        676357.0           NaN     180931.0   \n",
       "4         9604.0        NaN        387316.0           NaN     141264.0   \n",
       "..           ...        ...             ...           ...          ...   \n",
       "204          1.0        NaN            10.0           NaN          2.0   \n",
       "205          NaN        NaN             7.0           NaN          6.0   \n",
       "206          NaN        NaN            13.0           NaN          0.0   \n",
       "207          NaN        NaN            12.0           NaN          0.0   \n",
       "208          1.0        NaN             8.0           NaN          1.0   \n",
       "\n",
       "     Serious,Critical  Tot Cases/1M pop  Deaths/1M pop  TotalTests  \\\n",
       "0             18296.0           15194.0          492.0  63139605.0   \n",
       "1              8318.0           13716.0          464.0  13206188.0   \n",
       "2              8944.0            1466.0           30.0  22149351.0   \n",
       "3              2300.0            5974.0          100.0  29716907.0   \n",
       "4               539.0            9063.0          162.0   3149807.0   \n",
       "..                ...               ...            ...         ...   \n",
       "204               NaN            2604.0          200.0        61.0   \n",
       "205               NaN             495.0            NaN       424.0   \n",
       "206               NaN            3726.0            NaN      1816.0   \n",
       "207               NaN           14981.0            NaN         NaN   \n",
       "208               NaN              17.0            2.0         NaN   \n",
       "\n",
       "     Tests/1M pop      WHO Region  \n",
       "0        190640.0        Americas  \n",
       "1         62085.0        Americas  \n",
       "2         16035.0  South-EastAsia  \n",
       "3        203623.0          Europe  \n",
       "4         53044.0          Africa  \n",
       "..            ...             ...  \n",
       "204       12220.0             NaN  \n",
       "205       16154.0             NaN  \n",
       "206      520493.0             NaN  \n",
       "207           NaN          Europe  \n",
       "208           NaN          Africa  \n",
       "\n",
       "[209 rows x 16 columns]"
      ]
     },
     "execution_count": 255,
     "metadata": {},
     "output_type": "execute_result"
    }
   ],
   "source": [
    "df"
   ]
  },
  {
   "cell_type": "code",
   "execution_count": 256,
   "id": "d23d1741-5f1d-4742-98f0-6c531600a9b3",
   "metadata": {},
   "outputs": [
    {
     "name": "stdout",
     "output_type": "stream",
     "text": [
      "Initial dataframe Information :- \n",
      "<class 'pandas.core.frame.DataFrame'>\n",
      "RangeIndex: 209 entries, 0 to 208\n",
      "Data columns (total 16 columns):\n",
      " #   Column            Non-Null Count  Dtype  \n",
      "---  ------            --------------  -----  \n",
      " 0   Country/Region    209 non-null    object \n",
      " 1   Continent         208 non-null    object \n",
      " 2   Population        208 non-null    float64\n",
      " 3   TotalCases        209 non-null    int64  \n",
      " 4   NewCases          4 non-null      float64\n",
      " 5   TotalDeaths       188 non-null    float64\n",
      " 6   NewDeaths         3 non-null      float64\n",
      " 7   TotalRecovered    205 non-null    float64\n",
      " 8   NewRecovered      3 non-null      float64\n",
      " 9   ActiveCases       205 non-null    float64\n",
      " 10  Serious,Critical  122 non-null    float64\n",
      " 11  Tot Cases/1M pop  208 non-null    float64\n",
      " 12  Deaths/1M pop     187 non-null    float64\n",
      " 13  TotalTests        191 non-null    float64\n",
      " 14  Tests/1M pop      191 non-null    float64\n",
      " 15  WHO Region        184 non-null    object \n",
      "dtypes: float64(12), int64(1), object(3)\n",
      "memory usage: 26.3+ KB\n"
     ]
    }
   ],
   "source": [
    "# display the information and descriptive stats\n",
    "print(\"Initial dataframe Information :- \")\n",
    "df.info()"
   ]
  },
  {
   "cell_type": "code",
   "execution_count": 257,
   "id": "36dd99da-96dc-4f1e-9f14-241887ebc9fe",
   "metadata": {},
   "outputs": [
    {
     "name": "stdout",
     "output_type": "stream",
     "text": [
      "\n",
      " Descriptive Statistics :- \n",
      "                  count          mean           std     min        25%  \\\n",
      "Population        208.0  3.041549e+07  1.047661e+08  801.00  966314.00   \n",
      "TotalCases        209.0  9.171850e+04  4.325867e+05   10.00     712.00   \n",
      "NewCases            4.0  1.980500e+03  3.129611e+03   20.00      27.50   \n",
      "TotalDeaths       188.0  3.792590e+03  1.548718e+04    1.00      22.00   \n",
      "NewDeaths           3.0  3.000000e+02  4.511995e+02    1.00      40.50   \n",
      "TotalRecovered    205.0  5.887898e+04  2.566984e+05    7.00     334.00   \n",
      "NewRecovered        3.0  1.706000e+03  2.154780e+03   42.00     489.00   \n",
      "ActiveCases       205.0  2.766433e+04  1.746327e+05    0.00      86.00   \n",
      "Serious,Critical  122.0  5.343934e+02  2.047519e+03    1.00       3.25   \n",
      "Tot Cases/1M pop  208.0  3.196024e+03  5.191986e+03    3.00     282.00   \n",
      "Deaths/1M pop     187.0  9.868118e+01  1.749569e+02    0.08       6.00   \n",
      "TotalTests        191.0  1.402405e+06  5.553367e+06   61.00   25752.00   \n",
      "Tests/1M pop      191.0  8.395937e+04  1.527306e+05    4.00    8956.50   \n",
      "\n",
      "                        50%          75%           max  \n",
      "Population        7041972.5  25756135.50  1.381345e+09  \n",
      "TotalCases           4491.0     36896.00  5.032179e+06  \n",
      "NewCases              656.0      2609.00  6.590000e+03  \n",
      "TotalDeaths           113.0       786.00  1.628040e+05  \n",
      "NewDeaths              80.0       449.50  8.190000e+02  \n",
      "TotalRecovered       2178.0     20553.00  2.576668e+06  \n",
      "NewRecovered          936.0      2538.00  4.140000e+03  \n",
      "ActiveCases           899.0      7124.00  2.292707e+06  \n",
      "Serious,Critical       27.5       160.25  1.829600e+04  \n",
      "Tot Cases/1M pop     1015.0      3841.75  3.992200e+04  \n",
      "Deaths/1M pop          29.0        98.00  1.238000e+03  \n",
      "TotalTests         135702.0    757696.00  6.313960e+07  \n",
      "Tests/1M pop        32585.0     92154.50  9.952820e+05  \n"
     ]
    }
   ],
   "source": [
    "print(\"\\n Descriptive Statistics :- \") # It displays descriptive statistics of the dataset df\n",
    "print(df.describe().T) # .T -> transpose for easier reading, .describe() -> summary stats of each numerical column"
   ]
  },
  {
   "cell_type": "code",
   "execution_count": 258,
   "id": "3b2eafa8-b2c7-4789-87e0-cf06e9da0676",
   "metadata": {},
   "outputs": [],
   "source": [
    "# Handle all the missing values and replace with median\n",
    "numeric_cols = df.select_dtypes(include=np.number).columns # It uses select_dtypes(include=np.number) to filter only numeric columns.\n",
    "# because in dataset some has nan values\n",
    "for col in numeric_cols:\n",
    "    df[col] = df[col].fillna(df[col].median()) # calculates the median value ignoring the missing entries."
   ]
  },
  {
   "cell_type": "code",
   "execution_count": 260,
   "id": "b2cc542a-1ec4-49f7-a1f6-eb3f6716f374",
   "metadata": {},
   "outputs": [
    {
     "name": "stdout",
     "output_type": "stream",
     "text": [
      "\n",
      "--- Step 2 Feature Engineering and Transformation\n"
     ]
    }
   ],
   "source": [
    "# Feature Engineering and transgformation\n",
    "print(\"\\n--- Step 2 Feature Engineering and Transformation\")"
   ]
  },
  {
   "cell_type": "code",
   "execution_count": 261,
   "id": "1216be86-b7f4-48bd-9791-e2bc8131d077",
   "metadata": {},
   "outputs": [
    {
     "name": "stdout",
     "output_type": "stream",
     "text": [
      "['Country/Region', 'Continent', 'Population', 'TotalCases', 'NewCases', 'TotalDeaths', 'NewDeaths', 'TotalRecovered', 'NewRecovered', 'ActiveCases', 'Serious,Critical', 'Tot Cases/1M pop', 'Deaths/1M pop', 'TotalTests', 'Tests/1M pop', 'WHO Region']\n"
     ]
    }
   ],
   "source": [
    "print(df.columns.tolist())\n"
   ]
  },
  {
   "cell_type": "code",
   "execution_count": 263,
   "id": "f90a515f-b029-41f0-a052-ebf8756b6d3b",
   "metadata": {},
   "outputs": [],
   "source": [
    "df['Test Positive Rate'] = np.where(\n",
    "    df['TotalTests'] > 0,\n",
    "    df['TotalCases'] / df['TotalTests'],  # use correct column name\n",
    "    0\n",
    ")\n",
    "\n",
    "# Replace infinities with 0\n",
    "df['Test Positive Rate'] = df['Test Positive Rate'].replace([np.inf, -np.inf], 0)\n",
    "\n",
    "# Fill NaN values with 0\n",
    "df['Test Positive Rate'] = df['Test Positive Rate'].fillna(0)\n"
   ]
  },
  {
   "cell_type": "code",
   "execution_count": 265,
   "id": "a75bc31d-348b-435b-b000-9b806bc5ba6f",
   "metadata": {},
   "outputs": [],
   "source": [
    "# Apply log transformation to reduce skewness and improve model performance\n",
    "df['Total_case_log'] = np.log1p(df['TotalCases'])\n",
    " # np.log1p(x) computes log(1 + x) accurately even when x is very small.\n",
    "df['Population_Log'] = np.log1p(df['Population']) # This is useful because populations range from a few hundred to billions — applying the log makes analysis easier and more stable.\n",
    "df['Testing_Log'] = np.log1p(df['TotalTests']) # Testing numbers can also be extremely large, so this transformation helps reduce variability and outlier effects."
   ]
  },
  {
   "cell_type": "code",
   "execution_count": 268,
   "id": "afb6930f-126b-41b2-9471-209bb170a707",
   "metadata": {},
   "outputs": [
    {
     "data": {
      "image/png": "[encoded data removed]",
      "text/plain": [
       "<Figure size 1400x600 with 2 Axes>"
      ]
     },
     "metadata": {},
     "output_type": "display_data"
    }
   ],
   "source": [
    "import numpy as np\n",
    "import matplotlib.pyplot as plt\n",
    "\n",
    "\n",
    "# Apply log transformation to reduce skewness\n",
    "df['Total_case_log'] = np.log1p(df['TotalCases'])    \n",
    "df['Population_Log'] = np.log1p(df['Population'])\n",
    "df['Testing_Log'] = np.log1p(df['TotalTests'])\n",
    "\n",
    "# Plot the distribution of the original and transformed target variable to demonstrate the effect\n",
    "plt.figure(figsize=(14, 6)) # Creates a new figure for plotting with a width of 14 units and height of 6 units.\n",
    "\n",
    "# Plot original distribution\n",
    "plt.subplot(1, 2, 1) # figure will be divided into 1 row and 2 columns of subplots.\n",
    "sns.histplot(df['TotalCases'], kde=True)\n",
    "plt.title('Original Distribution of Total Cases') # his plots the original data from the TotalCases column.\n",
    "\n",
    "# Plot log-transformed distribution\n",
    "plt.subplot(1, 2, 2)\n",
    "sns.histplot(df['Total_case_log'], kde=True)  # Use correct column name here\n",
    "plt.title('Log-Transformed Distribution of Total Cases')\n",
    "\n",
    "plt.tight_layout()\n",
    "plt.show()\n"
   ]
  },
  {
   "cell_type": "code",
   "execution_count": 269,
   "id": "e0be443e-c9dc-479a-bd41-13404a4723f1",
   "metadata": {},
   "outputs": [
    {
     "name": "stdout",
     "output_type": "stream",
     "text": [
      "\n",
      "--- Step3: Feature and Target Selection---\n"
     ]
    }
   ],
   "source": [
    "# ---3. Feature and Target Selection -- \n",
    "print(\"\\n--- Step3: Feature and Target Selection---\")\n"
   ]
  },
  {
   "cell_type": "code",
   "execution_count": 270,
   "id": "52c7fcb8-9eb5-4bcd-bdb7-50aa6ffed1f1",
   "metadata": {},
   "outputs": [],
   "source": [
    "# Define Target and feature sets :-\n",
    "target = 'Total_case_log'\n",
    "# Drop the columna and non predictive features\n",
    "features_to_drop = ['Country/Region', 'NewCases', 'NewDeaths', 'NewRecovered',\n",
    "                    'WHO Region', 'Continent', 'TotalCases', 'TotalTests',\n",
    "                    'Population', 'TotalDeaths'] #  list of columns that should be excluded from the feature set.\n",
    "features=df.drop(columns = features_to_drop, errors = 'ignore').columns\n",
    "x = df[features]\n",
    "y = df[target]"
   ]
  },
  {
   "cell_type": "code",
   "execution_count": 271,
   "id": "da86d2fa-e1b5-45e2-99a9-ebd9bc30dff5",
   "metadata": {},
   "outputs": [],
   "source": [
    "from sklearn.preprocessing import MinMaxScaler\n",
    "\n",
    "# Select feature columns (example)\n",
    "feature_cols = ['TotalCases', 'TotalDeaths', 'TotalRecovered', 'ActiveCases', 'TotalTests']\n",
    "X = df[feature_cols]  # X is now your feature matrix\n",
    "\n",
    "# Initialize the scaler\n",
    "scaler = MinMaxScaler()\n",
    "\n",
    "# Fit and transform X\n",
    "X_scaled = scaler.fit_transform(X)\n"
   ]
  },
  {
   "cell_type": "code",
   "execution_count": 276,
   "id": "0c7c9440-9127-4405-9193-31e82b715065",
   "metadata": {},
   "outputs": [],
   "source": [
    "# split data into traininng and testing sets\n",
    "\n",
    "X_train, X_test, y_train, y_test = train_test_split(X_scaled, y, test_size=0.2, random_state=42)\n"
   ]
  },
  {
   "cell_type": "code",
   "execution_count": 277,
   "id": "22429d99-bbd4-4ea3-8e93-bd422522d18d",
   "metadata": {},
   "outputs": [
    {
     "name": "stdout",
     "output_type": "stream",
     "text": [
      "\n",
      "--- Step 4: Training and Evaluating Models ---\n"
     ]
    }
   ],
   "source": [
    "# --- 4. Model Training and Evaluation ---\n",
    "print(\"\\n--- Step 4: Training and Evaluating Models ---\")\n"
   ]
  },
  {
   "cell_type": "code",
   "execution_count": 278,
   "id": "851fb4dd-7a10-481b-875a-a01c15ff6a84",
   "metadata": {},
   "outputs": [],
   "source": [
    "def train_and_evaluate(model, model_name):\n",
    "    \"\"\"\n",
    "    Trains a regression model and evaluates its performance with key metrics.\n",
    "    \"\"\"\n",
    "    print(f\"\\n--- Training {model_name} ---\")\n",
    "    model.fit(X_train, y_train)\n",
    "    y_pred = model.predict(X_test)\n",
    "    # You can add evaluation metrics here, for example:\n",
    "    from sklearn.metrics import mean_squared_error, r2_score\n",
    "    mse = mean_squared_error(y_test, y_pred) # Calculates Mean Squared Error between the actual test targets (y_test) and the predicted values (y_pred).\n",
    "    r2 = r2_score(y_test, y_pred)\n",
    "    print(f\"MSE: {mse:.4f}, R2: {r2:.4f}\")\n",
    "    \n",
    "\n",
    "    "
   ]
  },
  {
   "cell_type": "code",
   "execution_count": 279,
   "id": "884ee615-4b50-4a83-a111-79207426cacb",
   "metadata": {},
   "outputs": [
    {
     "name": "stdout",
     "output_type": "stream",
     "text": [
      "\n",
      "--- Training Linear Regression (Baseline) ---\n",
      "MSE: 5.9201, R2: 0.2400\n"
     ]
    }
   ],
   "source": [
    "# Initialize and train models\n",
    "linear_reg = LinearRegression() # This creates an instance of the Linear Regression model from scikit-learn.\n",
    "train_and_evaluate(linear_reg, \"Linear Regression (Baseline)\") # Calls the train_and_evaluate function you defined earlier.\n"
   ]
  },
  {
   "cell_type": "code",
   "execution_count": 280,
   "id": "d8413b19-1c6c-43ef-8bd7-4271706e57a3",
   "metadata": {},
   "outputs": [
    {
     "name": "stdout",
     "output_type": "stream",
     "text": [
      "\n",
      "--- Training Random Forest Regressor ---\n",
      "MSE: 0.0037, R2: 0.9995\n"
     ]
    }
   ],
   "source": [
    "from sklearn.ensemble import RandomForestRegressor\n",
    "\n",
    "# Create model\n",
    "random_forest_reg = RandomForestRegressor(n_estimators=200, max_depth=10, random_state=42)\n",
    "# Random Forest is an ensemble learning algorithm that builds multiple decision trees and averages their predictions for regression tasks.\n",
    "# Train and evaluate\n",
    "train_and_evaluate(random_forest_reg, \"Random Forest Regressor\") # This will print the MSE and R² for the Random Forest.\n",
    "# This calls the train_and_evaluate\n",
    "# The Random Forest learns the relationship between X_train (features) and y_train (target)"
   ]
  },
  {
   "cell_type": "code",
   "execution_count": 281,
   "id": "5b57fee1-608a-4dc6-9607-31dba0e48917",
   "metadata": {},
   "outputs": [],
   "source": [
    "from sklearn.metrics import mean_squared_error, r2_score\n",
    "\n",
    "def train_and_evaluate(model, name):\n",
    "    # Train the model\n",
    "    model.fit(X_train, y_train)\n",
    "    \n",
    "    # Make predictions\n",
    "    preds = model.predict(X_test)\n",
    "    \n",
    "    # Evaluate performance\n",
    "    rmse = mean_squared_error(y_test, preds, squared=False)\n",
    "    r2 = r2_score(y_test, preds)\n",
    "    print(f\"{name} RMSE: {rmse:.4f}, R²: {r2:.4f}\")\n",
    "    \n",
    "    # RETURN both trained model and predictions\n",
    "    return model, preds\n"
   ]
  },
  {
   "cell_type": "code",
   "execution_count": 282,
   "id": "99848680-65ce-4da5-b335-4617b2084e7a",
   "metadata": {},
   "outputs": [
    {
     "name": "stdout",
     "output_type": "stream",
     "text": [
      "\n",
      "--- Step 5: Key Insights from Feature Importance ---\n"
     ]
    }
   ],
   "source": [
    "# --- 5. Key Insights: Feature Importance ---\n",
    "print(\"\\n--- Step 5: Key Insights from Feature Importance ---\")\n"
   ]
  },
  {
   "cell_type": "code",
   "execution_count": 283,
   "id": "6433f54d-95a1-4c34-9c20-e45ea2c200f5",
   "metadata": {},
   "outputs": [
    {
     "name": "stdout",
     "output_type": "stream",
     "text": [
      "Random Forest Regressor RMSE: 0.0609, R²: 0.9995\n"
     ]
    }
   ],
   "source": [
    "from sklearn.ensemble import RandomForestRegressor\n",
    "\n",
    "# Initialize\n",
    "rf_model = RandomForestRegressor(n_estimators=200, max_depth=10, random_state=42)\n",
    "\n",
    "# Train using the same function (if defined)\n",
    "rf_model, rf_preds = train_and_evaluate(rf_model, \"Random Forest Regressor\")\n"
   ]
  },
  {
   "cell_type": "code",
   "execution_count": 333,
   "id": "85f74154-690c-49e5-9c76-208c8cc78f76",
   "metadata": {},
   "outputs": [],
   "source": [
    "features = [f\"feature_{i}\" for i in range(X_train.shape[1])]\n"
   ]
  },
  {
   "cell_type": "code",
   "execution_count": 335,
   "id": "56bfbffa-afed-49ef-90e0-db8644e89c4c",
   "metadata": {},
   "outputs": [
    {
     "data": {
      "text/html": [
       "<style>#sk-container-id-4 {\n",
       "  /* Definition of color scheme common for light and dark mode */\n",
       "  --sklearn-color-text: black;\n",
       "  --sklearn-color-line: gray;\n",
       "  /* Definition of color scheme for unfitted estimators */\n",
       "  --sklearn-color-unfitted-level-0: #fff5e6;\n",
       "  --sklearn-color-unfitted-level-1: #f6e4d2;\n",
       "  --sklearn-color-unfitted-level-2: #ffe0b3;\n",
       "  --sklearn-color-unfitted-level-3: chocolate;\n",
       "  /* Definition of color scheme for fitted estimators */\n",
       "  --sklearn-color-fitted-level-0: #f0f8ff;\n",
       "  --sklearn-color-fitted-level-1: #d4ebff;\n",
       "  --sklearn-color-fitted-level-2: #b3dbfd;\n",
       "  --sklearn-color-fitted-level-3: cornflowerblue;\n",
       "\n",
       "  /* Specific color for light theme */\n",
       "  --sklearn-color-text-on-default-background: var(--sg-text-color, var(--theme-code-foreground, var(--jp-content-font-color1, black)));\n",
       "  --sklearn-color-background: var(--sg-background-color, var(--theme-background, var(--jp-layout-color0, white)));\n",
       "  --sklearn-color-border-box: var(--sg-text-color, var(--theme-code-foreground, var(--jp-content-font-color1, black)));\n",
       "  --sklearn-color-icon: #696969;\n",
       "\n",
       "  @media (prefers-color-scheme: dark) {\n",
       "    /* Redefinition of color scheme for dark theme */\n",
       "    --sklearn-color-text-on-default-background: var(--sg-text-color, var(--theme-code-foreground, var(--jp-content-font-color1, white)));\n",
       "    --sklearn-color-background: var(--sg-background-color, var(--theme-background, var(--jp-layout-color0, #111)));\n",
       "    --sklearn-color-border-box: var(--sg-text-color, var(--theme-code-foreground, var(--jp-content-font-color1, white)));\n",
       "    --sklearn-color-icon: #878787;\n",
       "  }\n",
       "}\n",
       "\n",
       "#sk-container-id-4 {\n",
       "  color: var(--sklearn-color-text);\n",
       "}\n",
       "\n",
       "#sk-container-id-4 pre {\n",
       "  padding: 0;\n",
       "}\n",
       "\n",
       "#sk-container-id-4 input.sk-hidden--visually {\n",
       "  border: 0;\n",
       "  clip: rect(1px 1px 1px 1px);\n",
       "  clip: rect(1px, 1px, 1px, 1px);\n",
       "  height: 1px;\n",
       "  margin: -1px;\n",
       "  overflow: hidden;\n",
       "  padding: 0;\n",
       "  position: absolute;\n",
       "  width: 1px;\n",
       "}\n",
       "\n",
       "#sk-container-id-4 div.sk-dashed-wrapped {\n",
       "  border: 1px dashed var(--sklearn-color-line);\n",
       "  margin: 0 0.4em 0.5em 0.4em;\n",
       "  box-sizing: border-box;\n",
       "  padding-bottom: 0.4em;\n",
       "  background-color: var(--sklearn-color-background);\n",
       "}\n",
       "\n",
       "#sk-container-id-4 div.sk-container {\n",
       "  /* jupyter's `normalize.less` sets `[hidden] { display: none; }`\n",
       "     but bootstrap.min.css set `[hidden] { display: none !important; }`\n",
       "     so we also need the `!important` here to be able to override the\n",
       "     default hidden behavior on the sphinx rendered scikit-learn.org.\n",
       "     See: https://github.com/scikit-learn/scikit-learn/issues/21755 */\n",
       "  display: inline-block !important;\n",
       "  position: relative;\n",
       "}\n",
       "\n",
       "#sk-container-id-4 div.sk-text-repr-fallback {\n",
       "  display: none;\n",
       "}\n",
       "\n",
       "div.sk-parallel-item,\n",
       "div.sk-serial,\n",
       "div.sk-item {\n",
       "  /* draw centered vertical line to link estimators */\n",
       "  background-image: linear-gradient(var(--sklearn-color-text-on-default-background), var(--sklearn-color-text-on-default-background));\n",
       "  background-size: 2px 100%;\n",
       "  background-repeat: no-repeat;\n",
       "  background-position: center center;\n",
       "}\n",
       "\n",
       "/* Parallel-specific style estimator block */\n",
       "\n",
       "#sk-container-id-4 div.sk-parallel-item::after {\n",
       "  content: \"\";\n",
       "  width: 100%;\n",
       "  border-bottom: 2px solid var(--sklearn-color-text-on-default-background);\n",
       "  flex-grow: 1;\n",
       "}\n",
       "\n",
       "#sk-container-id-4 div.sk-parallel {\n",
       "  display: flex;\n",
       "  align-items: stretch;\n",
       "  justify-content: center;\n",
       "  background-color: var(--sklearn-color-background);\n",
       "  position: relative;\n",
       "}\n",
       "\n",
       "#sk-container-id-4 div.sk-parallel-item {\n",
       "  display: flex;\n",
       "  flex-direction: column;\n",
       "}\n",
       "\n",
       "#sk-container-id-4 div.sk-parallel-item:first-child::after {\n",
       "  align-self: flex-end;\n",
       "  width: 50%;\n",
       "}\n",
       "\n",
       "#sk-container-id-4 div.sk-parallel-item:last-child::after {\n",
       "  align-self: flex-start;\n",
       "  width: 50%;\n",
       "}\n",
       "\n",
       "#sk-container-id-4 div.sk-parallel-item:only-child::after {\n",
       "  width: 0;\n",
       "}\n",
       "\n",
       "/* Serial-specific style estimator block */\n",
       "\n",
       "#sk-container-id-4 div.sk-serial {\n",
       "  display: flex;\n",
       "  flex-direction: column;\n",
       "  align-items: center;\n",
       "  background-color: var(--sklearn-color-background);\n",
       "  padding-right: 1em;\n",
       "  padding-left: 1em;\n",
       "}\n",
       "\n",
       "\n",
       "/* Toggleable style: style used for estimator/Pipeline/ColumnTransformer box that is\n",
       "clickable and can be expanded/collapsed.\n",
       "- Pipeline and ColumnTransformer use this feature and define the default style\n",
       "- Estimators will overwrite some part of the style using the `sk-estimator` class\n",
       "*/\n",
       "\n",
       "/* Pipeline and ColumnTransformer style (default) */\n",
       "\n",
       "#sk-container-id-4 div.sk-toggleable {\n",
       "  /* Default theme specific background. It is overwritten whether we have a\n",
       "  specific estimator or a Pipeline/ColumnTransformer */\n",
       "  background-color: var(--sklearn-color-background);\n",
       "}\n",
       "\n",
       "/* Toggleable label */\n",
       "#sk-container-id-4 label.sk-toggleable__label {\n",
       "  cursor: pointer;\n",
       "  display: block;\n",
       "  width: 100%;\n",
       "  margin-bottom: 0;\n",
       "  padding: 0.5em;\n",
       "  box-sizing: border-box;\n",
       "  text-align: center;\n",
       "}\n",
       "\n",
       "#sk-container-id-4 label.sk-toggleable__label-arrow:before {\n",
       "  /* Arrow on the left of the label */\n",
       "  content: \"▸\";\n",
       "  float: left;\n",
       "  margin-right: 0.25em;\n",
       "  color: var(--sklearn-color-icon);\n",
       "}\n",
       "\n",
       "#sk-container-id-4 label.sk-toggleable__label-arrow:hover:before {\n",
       "  color: var(--sklearn-color-text);\n",
       "}\n",
       "\n",
       "/* Toggleable content - dropdown */\n",
       "\n",
       "#sk-container-id-4 div.sk-toggleable__content {\n",
       "  max-height: 0;\n",
       "  max-width: 0;\n",
       "  overflow: hidden;\n",
       "  text-align: left;\n",
       "  /* unfitted */\n",
       "  background-color: var(--sklearn-color-unfitted-level-0);\n",
       "}\n",
       "\n",
       "#sk-container-id-4 div.sk-toggleable__content.fitted {\n",
       "  /* fitted */\n",
       "  background-color: var(--sklearn-color-fitted-level-0);\n",
       "}\n",
       "\n",
       "#sk-container-id-4 div.sk-toggleable__content pre {\n",
       "  margin: 0.2em;\n",
       "  border-radius: 0.25em;\n",
       "  color: var(--sklearn-color-text);\n",
       "  /* unfitted */\n",
       "  background-color: var(--sklearn-color-unfitted-level-0);\n",
       "}\n",
       "\n",
       "#sk-container-id-4 div.sk-toggleable__content.fitted pre {\n",
       "  /* unfitted */\n",
       "  background-color: var(--sklearn-color-fitted-level-0);\n",
       "}\n",
       "\n",
       "#sk-container-id-4 input.sk-toggleable__control:checked~div.sk-toggleable__content {\n",
       "  /* Expand drop-down */\n",
       "  max-height: 200px;\n",
       "  max-width: 100%;\n",
       "  overflow: auto;\n",
       "}\n",
       "\n",
       "#sk-container-id-4 input.sk-toggleable__control:checked~label.sk-toggleable__label-arrow:before {\n",
       "  content: \"▾\";\n",
       "}\n",
       "\n",
       "/* Pipeline/ColumnTransformer-specific style */\n",
       "\n",
       "#sk-container-id-4 div.sk-label input.sk-toggleable__control:checked~label.sk-toggleable__label {\n",
       "  color: var(--sklearn-color-text);\n",
       "  background-color: var(--sklearn-color-unfitted-level-2);\n",
       "}\n",
       "\n",
       "#sk-container-id-4 div.sk-label.fitted input.sk-toggleable__control:checked~label.sk-toggleable__label {\n",
       "  background-color: var(--sklearn-color-fitted-level-2);\n",
       "}\n",
       "\n",
       "/* Estimator-specific style */\n",
       "\n",
       "/* Colorize estimator box */\n",
       "#sk-container-id-4 div.sk-estimator input.sk-toggleable__control:checked~label.sk-toggleable__label {\n",
       "  /* unfitted */\n",
       "  background-color: var(--sklearn-color-unfitted-level-2);\n",
       "}\n",
       "\n",
       "#sk-container-id-4 div.sk-estimator.fitted input.sk-toggleable__control:checked~label.sk-toggleable__label {\n",
       "  /* fitted */\n",
       "  background-color: var(--sklearn-color-fitted-level-2);\n",
       "}\n",
       "\n",
       "#sk-container-id-4 div.sk-label label.sk-toggleable__label,\n",
       "#sk-container-id-4 div.sk-label label {\n",
       "  /* The background is the default theme color */\n",
       "  color: var(--sklearn-color-text-on-default-background);\n",
       "}\n",
       "\n",
       "/* On hover, darken the color of the background */\n",
       "#sk-container-id-4 div.sk-label:hover label.sk-toggleable__label {\n",
       "  color: var(--sklearn-color-text);\n",
       "  background-color: var(--sklearn-color-unfitted-level-2);\n",
       "}\n",
       "\n",
       "/* Label box, darken color on hover, fitted */\n",
       "#sk-container-id-4 div.sk-label.fitted:hover label.sk-toggleable__label.fitted {\n",
       "  color: var(--sklearn-color-text);\n",
       "  background-color: var(--sklearn-color-fitted-level-2);\n",
       "}\n",
       "\n",
       "/* Estimator label */\n",
       "\n",
       "#sk-container-id-4 div.sk-label label {\n",
       "  font-family: monospace;\n",
       "  font-weight: bold;\n",
       "  display: inline-block;\n",
       "  line-height: 1.2em;\n",
       "}\n",
       "\n",
       "#sk-container-id-4 div.sk-label-container {\n",
       "  text-align: center;\n",
       "}\n",
       "\n",
       "/* Estimator-specific */\n",
       "#sk-container-id-4 div.sk-estimator {\n",
       "  font-family: monospace;\n",
       "  border: 1px dotted var(--sklearn-color-border-box);\n",
       "  border-radius: 0.25em;\n",
       "  box-sizing: border-box;\n",
       "  margin-bottom: 0.5em;\n",
       "  /* unfitted */\n",
       "  background-color: var(--sklearn-color-unfitted-level-0);\n",
       "}\n",
       "\n",
       "#sk-container-id-4 div.sk-estimator.fitted {\n",
       "  /* fitted */\n",
       "  background-color: var(--sklearn-color-fitted-level-0);\n",
       "}\n",
       "\n",
       "/* on hover */\n",
       "#sk-container-id-4 div.sk-estimator:hover {\n",
       "  /* unfitted */\n",
       "  background-color: var(--sklearn-color-unfitted-level-2);\n",
       "}\n",
       "\n",
       "#sk-container-id-4 div.sk-estimator.fitted:hover {\n",
       "  /* fitted */\n",
       "  background-color: var(--sklearn-color-fitted-level-2);\n",
       "}\n",
       "\n",
       "/* Specification for estimator info (e.g. \"i\" and \"?\") */\n",
       "\n",
       "/* Common style for \"i\" and \"?\" */\n",
       "\n",
       ".sk-estimator-doc-link,\n",
       "a:link.sk-estimator-doc-link,\n",
       "a:visited.sk-estimator-doc-link {\n",
       "  float: right;\n",
       "  font-size: smaller;\n",
       "  line-height: 1em;\n",
       "  font-family: monospace;\n",
       "  background-color: var(--sklearn-color-background);\n",
       "  border-radius: 1em;\n",
       "  height: 1em;\n",
       "  width: 1em;\n",
       "  text-decoration: none !important;\n",
       "  margin-left: 1ex;\n",
       "  /* unfitted */\n",
       "  border: var(--sklearn-color-unfitted-level-1) 1pt solid;\n",
       "  color: var(--sklearn-color-unfitted-level-1);\n",
       "}\n",
       "\n",
       ".sk-estimator-doc-link.fitted,\n",
       "a:link.sk-estimator-doc-link.fitted,\n",
       "a:visited.sk-estimator-doc-link.fitted {\n",
       "  /* fitted */\n",
       "  border: var(--sklearn-color-fitted-level-1) 1pt solid;\n",
       "  color: var(--sklearn-color-fitted-level-1);\n",
       "}\n",
       "\n",
       "/* On hover */\n",
       "div.sk-estimator:hover .sk-estimator-doc-link:hover,\n",
       ".sk-estimator-doc-link:hover,\n",
       "div.sk-label-container:hover .sk-estimator-doc-link:hover,\n",
       ".sk-estimator-doc-link:hover {\n",
       "  /* unfitted */\n",
       "  background-color: var(--sklearn-color-unfitted-level-3);\n",
       "  color: var(--sklearn-color-background);\n",
       "  text-decoration: none;\n",
       "}\n",
       "\n",
       "div.sk-estimator.fitted:hover .sk-estimator-doc-link.fitted:hover,\n",
       ".sk-estimator-doc-link.fitted:hover,\n",
       "div.sk-label-container:hover .sk-estimator-doc-link.fitted:hover,\n",
       ".sk-estimator-doc-link.fitted:hover {\n",
       "  /* fitted */\n",
       "  background-color: var(--sklearn-color-fitted-level-3);\n",
       "  color: var(--sklearn-color-background);\n",
       "  text-decoration: none;\n",
       "}\n",
       "\n",
       "/* Span, style for the box shown on hovering the info icon */\n",
       ".sk-estimator-doc-link span {\n",
       "  display: none;\n",
       "  z-index: 9999;\n",
       "  position: relative;\n",
       "  font-weight: normal;\n",
       "  right: .2ex;\n",
       "  padding: .5ex;\n",
       "  margin: .5ex;\n",
       "  width: min-content;\n",
       "  min-width: 20ex;\n",
       "  max-width: 50ex;\n",
       "  color: var(--sklearn-color-text);\n",
       "  box-shadow: 2pt 2pt 4pt #999;\n",
       "  /* unfitted */\n",
       "  background: var(--sklearn-color-unfitted-level-0);\n",
       "  border: .5pt solid var(--sklearn-color-unfitted-level-3);\n",
       "}\n",
       "\n",
       ".sk-estimator-doc-link.fitted span {\n",
       "  /* fitted */\n",
       "  background: var(--sklearn-color-fitted-level-0);\n",
       "  border: var(--sklearn-color-fitted-level-3);\n",
       "}\n",
       "\n",
       ".sk-estimator-doc-link:hover span {\n",
       "  display: block;\n",
       "}\n",
       "\n",
       "/* \"?\"-specific style due to the `<a>` HTML tag */\n",
       "\n",
       "#sk-container-id-4 a.estimator_doc_link {\n",
       "  float: right;\n",
       "  font-size: 1rem;\n",
       "  line-height: 1em;\n",
       "  font-family: monospace;\n",
       "  background-color: var(--sklearn-color-background);\n",
       "  border-radius: 1rem;\n",
       "  height: 1rem;\n",
       "  width: 1rem;\n",
       "  text-decoration: none;\n",
       "  /* unfitted */\n",
       "  color: var(--sklearn-color-unfitted-level-1);\n",
       "  border: var(--sklearn-color-unfitted-level-1) 1pt solid;\n",
       "}\n",
       "\n",
       "#sk-container-id-4 a.estimator_doc_link.fitted {\n",
       "  /* fitted */\n",
       "  border: var(--sklearn-color-fitted-level-1) 1pt solid;\n",
       "  color: var(--sklearn-color-fitted-level-1);\n",
       "}\n",
       "\n",
       "/* On hover */\n",
       "#sk-container-id-4 a.estimator_doc_link:hover {\n",
       "  /* unfitted */\n",
       "  background-color: var(--sklearn-color-unfitted-level-3);\n",
       "  color: var(--sklearn-color-background);\n",
       "  text-decoration: none;\n",
       "}\n",
       "\n",
       "#sk-container-id-4 a.estimator_doc_link.fitted:hover {\n",
       "  /* fitted */\n",
       "  background-color: var(--sklearn-color-fitted-level-3);\n",
       "}\n",
       "</style><div id=\"sk-container-id-4\" class=\"sk-top-container\"><div class=\"sk-text-repr-fallback\"><pre>RandomForestRegressor(max_depth=10, n_estimators=200, random_state=42)</pre><b>In a Jupyter environment, please rerun this cell to show the HTML representation or trust the notebook. <br />On GitHub, the HTML representation is unable to render, please try loading this page with nbviewer.org.</b></div><div class=\"sk-container\" hidden><div class=\"sk-item\"><div class=\"sk-estimator fitted sk-toggleable\"><input class=\"sk-toggleable__control sk-hidden--visually\" id=\"sk-estimator-id-4\" type=\"checkbox\" checked><label for=\"sk-estimator-id-4\" class=\"sk-toggleable__label fitted sk-toggleable__label-arrow fitted\">&nbsp;&nbsp;RandomForestRegressor<a class=\"sk-estimator-doc-link fitted\" rel=\"noreferrer\" target=\"_blank\" href=\"https://scikit-learn.org/1.5/modules/generated/sklearn.ensemble.RandomForestRegressor.html\">?<span>Documentation for RandomForestRegressor</span></a><span class=\"sk-estimator-doc-link fitted\">i<span>Fitted</span></span></label><div class=\"sk-toggleable__content fitted\"><pre>RandomForestRegressor(max_depth=10, n_estimators=200, random_state=42)</pre></div> </div></div></div></div>"
      ],
      "text/plain": [
       "RandomForestRegressor(max_depth=10, n_estimators=200, random_state=42)"
      ]
     },
     "execution_count": 335,
     "metadata": {},
     "output_type": "execute_result"
    }
   ],
   "source": [
    "from sklearn.ensemble import RandomForestRegressor\n",
    "\n",
    "rf_model = RandomForestRegressor(n_estimators=200, max_depth=10, random_state=42)\n",
    "rf_model.fit(X_train, y_train)\n"
   ]
  },
  {
   "cell_type": "code",
   "execution_count": 337,
   "id": "7cd04d7d-cb41-451b-a13c-c6f69ef78a17",
   "metadata": {},
   "outputs": [],
   "source": [
    "import pandas as pd\n",
    "\n",
    "feature_importances_rf = pd.DataFrame({\n",
    "    'feature': features,\n",
    "    'importance': rf_model.feature_importances_\n",
    "}).sort_values(by='importance', ascending=False)\n"
   ]
  },
  {
   "cell_type": "code",
   "execution_count": 343,
   "id": "a5f5cc32-1ebb-4363-8a35-7577fd6545ab",
   "metadata": {},
   "outputs": [
    {
     "data": {
      "image/png": "[encoded data removed]",
      "text/plain": [
       "<Figure size 1000x600 with 1 Axes>"
      ]
     },
     "metadata": {},
     "output_type": "display_data"
    }
   ],
   "source": [
    "import matplotlib.pyplot as plt\n",
    "import seaborn as sns\n",
    "\n",
    "plt.figure(figsize=(10,6))\n",
    "sns.barplot(x='importance', y='feature', data=feature_importances_rf, palette='viridis')\n",
    "plt.title(\"Random Forest Feature Importances\")\n",
    "plt.show()\n"
   ]
  },
  {
   "cell_type": "code",
   "execution_count": 351,
   "id": "8d850f1a-ec17-4ce5-9210-dd304d0d93ef",
   "metadata": {},
   "outputs": [
    {
     "name": "stdout",
     "output_type": "stream",
     "text": [
      "Top 5 Features by Importance (Random Forest):\n",
      "  feature  importance\n",
      "feature_0    0.974047\n",
      "feature_2    0.018875\n",
      "feature_3    0.003843\n",
      "feature_4    0.001711\n",
      "feature_1    0.001524\n"
     ]
    }
   ],
   "source": [
    "print(\"Top 5 Features by Importance (Random Forest):\")\n",
    "print(feature_importances_rf.head().to_string(index=False))\n"
   ]
  },
  {
   "cell_type": "code",
   "execution_count": 355,
   "id": "752b25aa-3356-46ec-8573-760c58c28674",
   "metadata": {},
   "outputs": [
    {
     "name": "stdout",
     "output_type": "stream",
     "text": [
      "XGBoost Regressor RMSE: 0.0705, R²: 0.9994\n"
     ]
    }
   ],
   "source": [
    "xgboost_reg = XGBRegressor(n_estimators=100, learning_rate=0.1, max_depth=5, random_state=42)\n",
    "xgb_model, xgb_preds = train_and_evaluate(xgboost_reg, \"XGBoost Regressor\")\n"
   ]
  },
  {
   "cell_type": "code",
   "execution_count": 359,
   "id": "2775b2cc-37fc-4ec4-ad53-97107e6d2fa8",
   "metadata": {},
   "outputs": [],
   "source": [
    "# Extract and display feature importances for tree-based models\n",
    "feature_importances_rf = pd.DataFrame({'feature': features, 'importance': rf_model.feature_importances_}).sort_values(by='importance', ascending=False)\n",
    "feature_importances_xgb = pd.DataFrame({'feature': features, 'importance': xgb_model.feature_importances_}).sort_values(by='importance', ascending=False)\n",
    "\n"
   ]
  },
  {
   "cell_type": "code",
   "execution_count": 363,
   "id": "4fce189f-257b-4be7-abdd-55a73e7707f4",
   "metadata": {},
   "outputs": [
    {
     "data": {
      "image/png": "[encoded data removed]",
      "text/plain": [
       "<Figure size 1000x600 with 1 Axes>"
      ]
     },
     "metadata": {},
     "output_type": "display_data"
    }
   ],
   "source": [
    "import matplotlib.pyplot as plt\n",
    "import seaborn as sns\n",
    "\n",
    "plt.figure(figsize=(10,6))\n",
    "sns.barplot(x='importance', y='feature', data=feature_importances_xgb, palette='magma')\n",
    "plt.title(\"XGBoost Feature Importances\")\n",
    "plt.xlabel(\"Importance\")\n",
    "plt.ylabel(\"Feature\")\n",
    "plt.show()\n"
   ]
  },
  {
   "cell_type": "code",
   "execution_count": 361,
   "id": "2d1fc973-b773-41e2-a642-0a537628a86a",
   "metadata": {},
   "outputs": [
    {
     "name": "stdout",
     "output_type": "stream",
     "text": [
      "\n",
      "Top 5 Features by Importance (XGBoost):\n",
      "  feature  importance\n",
      "feature_0    0.992859\n",
      "feature_2    0.007038\n",
      "feature_3    0.000067\n",
      "feature_1    0.000023\n",
      "feature_4    0.000014\n"
     ]
    }
   ],
   "source": [
    "print(\"\\nTop 5 Features by Importance (XGBoost):\")\n",
    "print(feature_importances_xgb.head().to_string(index=False))\n",
    "\n"
   ]
  },
  {
   "cell_type": "code",
   "execution_count": 365,
   "id": "6d937ef9-64b0-4ee2-a805-32b3e9669af7",
   "metadata": {},
   "outputs": [
    {
     "name": "stdout",
     "output_type": "stream",
     "text": [
      "\n",
      "--- Conceptual Time-Series Modeling (Requires a different dataset) ---\n",
      "To model sequential data with LSTM or ARIMA, the dataset would need to include daily or weekly records per country.\n"
     ]
    }
   ],
   "source": [
    "# --- Conceptual Time-Series Models (for context only) ---\n",
    "# Note: LSTM and ARIMA models require time-series data, which is not available in the provided\n",
    "# single-snapshot dataset. This section is a conceptual placeholder to show understanding.\n",
    "print(\"\\n--- Conceptual Time-Series Modeling (Requires a different dataset) ---\")\n",
    "print(\"To model sequential data with LSTM or ARIMA, the dataset would need to include daily or weekly records per country.\")"
   ]
  },
  {
   "cell_type": "code",
   "execution_count": 367,
   "id": "0dff209e-507d-4895-9a4d-7a2f2420e016",
   "metadata": {},
   "outputs": [
    {
     "data": {
      "text/plain": [
       "['xgb_model.pkl']"
      ]
     },
     "execution_count": 367,
     "metadata": {},
     "output_type": "execute_result"
    }
   ],
   "source": [
    "import joblib\n",
    "joblib.dump(xgb_model, 'xgb_model.pkl')  # or rf_model.pkl\n"
   ]
  },
  {
   "cell_type": "code",
   "execution_count": 379,
   "id": "73524cdf-464e-4636-88a9-42c230ea3bb0",
   "metadata": {},
   "outputs": [],
   "source": [
    "import pandas as pd\n",
    "\n",
    "# Replace with real values for your features\n",
    "new_data = pd.DataFrame([\n",
    "    [10, 5, 3],   # First row\n",
    "    [7, 2, 6]     # Second row\n",
    "], columns=['feature_0', 'feature_1', 'feature_2'])\n",
    "\n"
   ]
  },
  {
   "cell_type": "code",
   "execution_count": 387,
   "id": "421eff2a-cde3-4f19-81d2-6d45f824cc1d",
   "metadata": {},
   "outputs": [
    {
     "name": "stdout",
     "output_type": "stream",
     "text": [
      "5\n"
     ]
    }
   ],
   "source": [
    "print(loaded_model.n_features_in_)\n"
   ]
  },
  {
   "cell_type": "code",
   "execution_count": 389,
   "id": "e4526151-26dc-425c-8112-ec45eb35927a",
   "metadata": {},
   "outputs": [],
   "source": [
    "import pandas as pd\n",
    "\n",
    "# Example: 5 features\n",
    "new_data = pd.DataFrame([\n",
    "    [10, 5, 3, 7, 2],   # First row\n",
    "    [7, 2, 6, 1, 4]     # Second row\n",
    "], columns=['feature_0', 'feature_1', 'feature_2', 'feature_3', 'feature_4'])\n"
   ]
  },
  {
   "cell_type": "code",
   "execution_count": 392,
   "id": "a14288e6-90ef-4afc-aecf-f5db038f2bff",
   "metadata": {},
   "outputs": [
    {
     "name": "stdout",
     "output_type": "stream",
     "text": [
      "[15.398473 15.398473]\n"
     ]
    }
   ],
   "source": [
    "predictions = loaded_model.predict(new_data)\n",
    "print(predictions)\n"
   ]
  },
  {
   "cell_type": "code",
   "execution_count": 398,
   "id": "baf12d02-5d87-4f44-b1ad-a5635291dc47",
   "metadata": {},
   "outputs": [],
   "source": [
    "#Time Series ''"
   ]
  },
  {
   "cell_type": "code",
   "execution_count": 394,
   "id": "333e0a60-e791-4d9e-af07-1856b6d50a84",
   "metadata": {},
   "outputs": [
    {
     "name": "stdout",
     "output_type": "stream",
     "text": [
      "  country       date  total_cases   gdp  hospital_beds\n",
      "0   India 2025-09-01          267   3.0            1.5\n",
      "1   India 2025-09-02          368   3.0            1.5\n",
      "2   India 2025-09-03          518   3.0            1.5\n",
      "3   India 2025-09-04          705   3.0            1.5\n",
      "4   India 2025-09-05          821   3.0            1.5\n",
      "5   India 2025-09-06          992   3.0            1.5\n",
      "6   India 2025-09-07         1124   3.0            1.5\n",
      "7     USA 2025-09-01          183  21.0            2.8\n",
      "8     USA 2025-09-02          341  21.0            2.8\n",
      "9     USA 2025-09-03          482  21.0            2.8\n"
     ]
    }
   ],
   "source": [
    "import pandas as pd\n",
    "import numpy as np\n",
    "\n",
    "# Example: 3 countries, original snapshot data\n",
    "countries = ['India', 'USA', 'Brazil']\n",
    "days = pd.date_range(start='2025-09-01', end='2025-09-07')  # 7 days\n",
    "\n",
    "# Original features per country (snapshot)\n",
    "snapshot_data = {\n",
    "    'country': countries,\n",
    "    'gdp': [3.0, 21.0, 1.5],             # in trillion USD\n",
    "    'hospital_beds': [1.5, 2.8, 2.0]     # per 1000 people\n",
    "}\n",
    "\n",
    "# Create a list to store rows\n",
    "time_series_data = []\n",
    "\n",
    "for country, gdp, beds in zip(snapshot_data['country'], snapshot_data['gdp'], snapshot_data['hospital_beds']):\n",
    "    cases = 100  # starting cases\n",
    "    for day in days:\n",
    "        # Simulate daily cases (just for example, increasing trend)\n",
    "        cases += np.random.randint(50, 200)\n",
    "        time_series_data.append([country, day, cases, gdp, beds])\n",
    "\n",
    "# Create DataFrame\n",
    "ts_df = pd.DataFrame(time_series_data, columns=['country', 'date', 'total_cases', 'gdp', 'hospital_beds'])\n",
    "print(ts_df.head(10))\n"
   ]
  },
  {
   "cell_type": "code",
   "execution_count": 402,
   "id": "9dec59a3-3c8b-40b7-84a0-1d6efb755b0f",
   "metadata": {},
   "outputs": [],
   "source": [
    "#For ARIMA: You can take one country’s series:\n",
    "india_cases = ts_df[ts_df['country'] == 'India'].set_index('date')['total_cases']\n"
   ]
  },
  {
   "cell_type": "code",
   "execution_count": 404,
   "id": "d9867833-cfdf-4a94-afeb-1471ab7ca9f5",
   "metadata": {},
   "outputs": [],
   "source": [
    "from statsmodels.tsa.arima.model import ARIMA\n",
    "import matplotlib.pyplot as plt\n"
   ]
  },
  {
   "cell_type": "code",
   "execution_count": 406,
   "id": "d76dbe85-9015-46a2-aa33-4fd006f29ba1",
   "metadata": {},
   "outputs": [
    {
     "data": {
      "image/png": "[encoded data removed]",
      "text/plain": [
       "<Figure size 1000x500 with 1 Axes>"
      ]
     },
     "metadata": {},
     "output_type": "display_data"
    }
   ],
   "source": [
    "india_cases.plot(figsize=(10,5), title='India Total Cases Over Time')\n",
    "plt.ylabel('Total Cases')\n",
    "plt.show()\n"
   ]
  },
  {
   "cell_type": "code",
   "execution_count": 409,
   "id": "a42452bf-dbba-4388-896f-0d857d1f16d3",
   "metadata": {},
   "outputs": [
    {
     "name": "stderr",
     "output_type": "stream",
     "text": [
      "C:\\Users\\rajku\\anaconda3\\Lib\\site-packages\\statsmodels\\tsa\\base\\tsa_model.py:473: ValueWarning: No frequency information was provided, so inferred frequency D will be used.\n",
      "  self._init_dates(dates, freq)\n",
      "C:\\Users\\rajku\\anaconda3\\Lib\\site-packages\\statsmodels\\tsa\\base\\tsa_model.py:473: ValueWarning: No frequency information was provided, so inferred frequency D will be used.\n",
      "  self._init_dates(dates, freq)\n",
      "C:\\Users\\rajku\\anaconda3\\Lib\\site-packages\\statsmodels\\tsa\\base\\tsa_model.py:473: ValueWarning: No frequency information was provided, so inferred frequency D will be used.\n",
      "  self._init_dates(dates, freq)\n",
      "C:\\Users\\rajku\\anaconda3\\Lib\\site-packages\\statsmodels\\tsa\\statespace\\sarimax.py:978: UserWarning: Non-invertible starting MA parameters found. Using zeros as starting parameters.\n",
      "  warn('Non-invertible starting MA parameters found.'\n"
     ]
    }
   ],
   "source": [
    "# ARIMA(p,d,q) parameters:\n",
    "# p = autoregressive terms\n",
    "# d = differences to make series stationary\n",
    "# q = moving average terms\n",
    "\n",
    "model = ARIMA(india_cases, order=(1,1,1))  # simple example\n",
    "arima_result = model.fit()\n"
   ]
  },
  {
   "cell_type": "code",
   "execution_count": 411,
   "id": "c5673ba4-3452-4135-b4e9-08344c9e415e",
   "metadata": {},
   "outputs": [
    {
     "name": "stdout",
     "output_type": "stream",
     "text": [
      "2025-09-08    1265.623921\n",
      "2025-09-09    1407.247388\n",
      "2025-09-10    1548.870401\n",
      "Freq: D, Name: predicted_mean, dtype: float64\n"
     ]
    }
   ],
   "source": [
    "# Forecast next 3 days\n",
    "forecast = arima_result.forecast(steps=3)\n",
    "print(forecast)\n"
   ]
  },
  {
   "cell_type": "code",
   "execution_count": 413,
   "id": "b91b2cd8-b656-4b91-adaa-527321b23b73",
   "metadata": {},
   "outputs": [
    {
     "data": {
      "image/png": "[encoded data removed]",
      "text/plain": [
       "<Figure size 1000x500 with 1 Axes>"
      ]
     },
     "metadata": {},
     "output_type": "display_data"
    }
   ],
   "source": [
    "plt.figure(figsize=(10,5))\n",
    "plt.plot(india_cases, label='Actual')\n",
    "plt.plot(arima_result.fittedvalues, color='red', label='Fitted')\n",
    "plt.title('ARIMA Model Fit for India Cases')\n",
    "plt.legend()\n",
    "plt.show()\n"
   ]
  },
  {
   "cell_type": "code",
   "execution_count": 415,
   "id": "c07a5394-9e95-4c42-82b9-ab37665e52ab",
   "metadata": {},
   "outputs": [
    {
     "data": {
      "image/png": "[encoded data removed]",
      "text/plain": [
       "<Figure size 1000x500 with 1 Axes>"
      ]
     },
     "metadata": {},
     "output_type": "display_data"
    },
    {
     "name": "stderr",
     "output_type": "stream",
     "text": [
      "C:\\Users\\rajku\\anaconda3\\Lib\\site-packages\\statsmodels\\tsa\\base\\tsa_model.py:473: ValueWarning: No frequency information was provided, so inferred frequency D will be used.\n",
      "  self._init_dates(dates, freq)\n",
      "C:\\Users\\rajku\\anaconda3\\Lib\\site-packages\\statsmodels\\tsa\\base\\tsa_model.py:473: ValueWarning: No frequency information was provided, so inferred frequency D will be used.\n",
      "  self._init_dates(dates, freq)\n",
      "C:\\Users\\rajku\\anaconda3\\Lib\\site-packages\\statsmodels\\tsa\\base\\tsa_model.py:473: ValueWarning: No frequency information was provided, so inferred frequency D will be used.\n",
      "  self._init_dates(dates, freq)\n",
      "C:\\Users\\rajku\\anaconda3\\Lib\\site-packages\\statsmodels\\tsa\\statespace\\sarimax.py:978: UserWarning: Non-invertible starting MA parameters found. Using zeros as starting parameters.\n",
      "  warn('Non-invertible starting MA parameters found.'\n"
     ]
    },
    {
     "name": "stdout",
     "output_type": "stream",
     "text": [
      "Forecast for next 5 days:\n",
      "2025-09-08    1265.623921\n",
      "2025-09-09    1407.247388\n",
      "2025-09-10    1548.870401\n",
      "2025-09-11    1690.492960\n",
      "2025-09-12    1832.115065\n",
      "Freq: D, Name: predicted_mean, dtype: float64\n"
     ]
    },
    {
     "data": {
      "image/png": "[encoded data removed]",
      "text/plain": [
       "<Figure size 1000x500 with 1 Axes>"
      ]
     },
     "metadata": {},
     "output_type": "display_data"
    }
   ],
   "source": [
    "#What this code does\n",
    "\n",
    "#Extracts India’s total cases as a time-series.\n",
    "\n",
    "#Plots the actual cases for visualization.\n",
    "\n",
    "#Fits a simple ARIMA(1,1,1) model to the series.\n",
    "\n",
    "#Forecasts the next 5 days of cases.\n",
    "\n",
    "#Plots actual data, fitted values, and forecast on the same chart.\n",
    "\n",
    "import pandas as pd\n",
    "import numpy as np\n",
    "import matplotlib.pyplot as plt\n",
    "from statsmodels.tsa.arima.model import ARIMA\n",
    "\n",
    "# -------------------------\n",
    "# Step 1: Prepare India time-series\n",
    "# -------------------------\n",
    "india_cases = ts_df[ts_df['country'] == 'India'].set_index('date')['total_cases']\n",
    "\n",
    "# -------------------------\n",
    "# Step 2: Visualize the data\n",
    "# -------------------------\n",
    "plt.figure(figsize=(10,5))\n",
    "plt.plot(india_cases, marker='o')\n",
    "plt.title('India Total Cases Over Time')\n",
    "plt.ylabel('Total Cases')\n",
    "plt.xlabel('Date')\n",
    "plt.grid(True)\n",
    "plt.show()\n",
    "\n",
    "# -------------------------\n",
    "# Step 3: Fit ARIMA model\n",
    "# -------------------------\n",
    "# ARIMA(p,d,q): simple example\n",
    "model = ARIMA(india_cases, order=(1,1,1))\n",
    "arima_result = model.fit()\n",
    "\n",
    "# -------------------------\n",
    "# Step 4: Forecast future cases\n",
    "# -------------------------\n",
    "forecast_steps = 5\n",
    "forecast = arima_result.forecast(steps=forecast_steps)\n",
    "print(f\"Forecast for next {forecast_steps} days:\")\n",
    "print(forecast)\n",
    "\n",
    "# -------------------------\n",
    "# Step 5: Plot actual vs fitted vs forecast\n",
    "# -------------------------\n",
    "plt.figure(figsize=(10,5))\n",
    "plt.plot(india_cases, label='Actual', marker='o')\n",
    "plt.plot(arima_result.fittedvalues, label='Fitted', color='red', linestyle='--')\n",
    "plt.plot(pd.date_range(india_cases.index[-1] + pd.Timedelta(days=1),\n",
    "                       periods=forecast_steps), forecast,\n",
    "         label='Forecast', color='green', marker='x')\n",
    "plt.title('ARIMA Model: India Cases')\n",
    "plt.xlabel('Date')\n",
    "plt.ylabel('Total Cases')\n",
    "plt.legend()\n",
    "plt.grid(True)\n",
    "plt.show()\n"
   ]
  },
  {
   "cell_type": "code",
   "execution_count": null,
   "id": "5fa6145f-43b3-498b-bee9-7b4312f015e3",
   "metadata": {},
   "outputs": [],
   "source": []
  }
 ],
 "metadata": {
  "kernelspec": {
   "display_name": "Python [conda env:base] *",
   "language": "python",
   "name": "conda-base-py"
  },
  "language_info": {
   "codemirror_mode": {
    "name": "ipython",
    "version": 3
   },
   "file_extension": ".py",
   "mimetype": "text/x-python",
   "name": "python",
   "nbconvert_exporter": "python",
   "pygments_lexer": "ipython3",
   "version": "3.12.7"
  }
 },
 "nbformat": 4,
 "nbformat_minor": 5
}
